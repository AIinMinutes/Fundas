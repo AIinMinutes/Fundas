{
 "cells": [
  {
   "cell_type": "markdown",
   "id": "3183a0ae",
   "metadata": {},
   "source": [
    "# The `@property` Decorator\n",
    "\n",
    "The `@property` decorator transforms methods into attributes, providing controlled access to class data while maintaining a clean, intuitive interface.\n",
    "\n",
    "### Core Functionality\n",
    "- **Getter**: Access values like attributes (`obj.value`)\n",
    "- **Setter**: Control how values are assigned (`obj.value = new_value`)\n",
    "- **Deleter**: Define cleanup behavior (`del obj.value`)\n",
    "\n",
    "### Key Benefits\n",
    "- **Data Validation**: Ensure values meet requirements before assignment\n",
    "- **Computed Properties**: Calculate values dynamically without storing them\n",
    "- **Lazy Loading**: Defer expensive operations until actually needed\n",
    "- **Backward Compatibility**: Add logic to existing attributes without breaking code\n",
    "- **Encapsulation**: Hide internal implementation while providing clean interfaces\n",
    "\n",
    "### Common Patterns\n",
    "```python\n",
    "# Validation\n",
    "@property\n",
    "def age(self):\n",
    "    return self._age\n",
    "\n",
    "@age.setter\n",
    "def age(self, value):\n",
    "    if value < 0:\n",
    "        raise ValueError(\"Age cannot be negative\")\n",
    "    self._age = value\n",
    "\n",
    "# Computed values\n",
    "@property\n",
    "def full_name(self):\n",
    "    return f\"{self.first_name} {self.last_name}\"\n",
    "\n",
    "# Caching expensive operations\n",
    "@property\n",
    "def expensive_result(self):\n",
    "    if not hasattr(self, '_cached_result'):\n",
    "        self._cached_result = self._do_expensive_work()\n",
    "    return self._cached_result\n",
    "```\n",
    "\n",
    "_See examples below_."
   ]
  },
  {
   "cell_type": "code",
   "execution_count": 16,
   "id": "ed360a57",
   "metadata": {},
   "outputs": [],
   "source": [
    "# Example-1\n",
    "import math\n",
    "\n",
    "class Circle:\n",
    "\n",
    "    def __init__(self, radius):\n",
    "        self._radius = radius\n",
    "    \n",
    "    @property\n",
    "    def radius(self):\n",
    "        return self._radius\n",
    "\n",
    "    @property\n",
    "    def area(self):\n",
    "        return math.pi * self._radius * 2"
   ]
  },
  {
   "cell_type": "code",
   "execution_count": 17,
   "id": "81a66746",
   "metadata": {},
   "outputs": [
    {
     "name": "stdout",
     "output_type": "stream",
     "text": [
      "5\n",
      "31.41592653589793\n"
     ]
    }
   ],
   "source": [
    "o = Circle(5) # creating an instance of Circle.\n",
    "print(o.radius) # accessing radius method like an attribute\n",
    "print(o.area) # accessing area method like an attribute"
   ]
  },
  {
   "cell_type": "code",
   "execution_count": null,
   "id": "30c0560c",
   "metadata": {},
   "outputs": [],
   "source": [
    "# Example-2\n",
    "class Temperature:\n",
    "    def __init__(self, celsius=None):\n",
    "        self._celsius = celsius\n",
    "    \n",
    "    @property # getter\n",
    "    def celsius(self):\n",
    "        return self._celsius\n",
    "\n",
    "    @celsius.setter # setter\n",
    "    def celsius(self, value):\n",
    "        if value < -273.15:\n",
    "            raise ValueError('Temperature cannot go below 0 K.')\n",
    "        self._celsius = value\n",
    "    \n",
    "    @celsius.deleter # deleter\n",
    "    def celsius(self):\n",
    "        print('Deleting temperature')\n",
    "        self._celsius = None # resorting to the default value"
   ]
  },
  {
   "cell_type": "code",
   "execution_count": 19,
   "id": "6cd8f496",
   "metadata": {},
   "outputs": [
    {
     "name": "stdout",
     "output_type": "stream",
     "text": [
      "Deleting temperature\n",
      "None\n"
     ]
    }
   ],
   "source": [
    "temp = Temperature() # celcius has the default value (None).\n",
    "temp.celsius = -10 # updating _celcius via setter\n",
    "del temp.celsius # deleting celcius (restoring to its default state.) \n",
    "print(temp.celsius)"
   ]
  },
  {
   "cell_type": "code",
   "execution_count": null,
   "id": "7f6ff76c",
   "metadata": {},
   "outputs": [],
   "source": []
  }
 ],
 "metadata": {
  "kernelspec": {
   "display_name": ".venv",
   "language": "python",
   "name": "python3"
  },
  "language_info": {
   "codemirror_mode": {
    "name": "ipython",
    "version": 3
   },
   "file_extension": ".py",
   "mimetype": "text/x-python",
   "name": "python",
   "nbconvert_exporter": "python",
   "pygments_lexer": "ipython3",
   "version": "3.9.6"
  }
 },
 "nbformat": 4,
 "nbformat_minor": 5
}

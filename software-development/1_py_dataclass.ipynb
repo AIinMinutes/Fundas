{
 "cells": [
  {
   "cell_type": "markdown",
   "id": "9a284240",
   "metadata": {},
   "source": [
    "# Dataclasses\n",
    "\n",
    "Python dataclasses (Python 3.7+) automatically generate common methods for data-focused classes, dramatically reducing boilerplate code.\n",
    "\n",
    "```python\n",
    "# Traditional approach → verbose\n",
    "class Person:\n",
    "    def __init__(self, name, age):\n",
    "        self.name = name\n",
    "        self.age = age\n",
    "\n",
    "    def __repr__(self):\n",
    "        return f\"Person(name={self.name!r}, age={self.age!r})\"\n",
    "\n",
    "    def __eq__(self, other):\n",
    "        return isinstance(other, Person) and self.name == other.name and self.age == other.age\n",
    "\n",
    "# Dataclass approach → clean and simple\n",
    "from dataclasses import dataclass\n",
    "\n",
    "@dataclass\n",
    "class Person:\n",
    "    name: str\n",
    "    age: int\n",
    "```\n",
    "\n",
    "## Auto-Generated Methods\n",
    "\n",
    "The `@dataclass` decorator automatically creates:\n",
    "\n",
    "* `__init__()` – Constructor\n",
    "* `__repr__()` – String representation\n",
    "* `__eq__()` – Equality comparison\n",
    "* (optionally) `__lt__`, `__le__`, `__gt__`, `__ge__` if `order=True`\n",
    "\n",
    "\n",
    "## Field Features\n",
    "\n",
    "```python\n",
    "from dataclasses import dataclass, field\n",
    "\n",
    "@dataclass\n",
    "class Product:\n",
    "    name: str                                    # Required field\n",
    "    price: float = 0.0                           # Default value\n",
    "    tags: list = field(default_factory=list)     # Safe mutable default\n",
    "    internal_id: str = field(init=False)         # Excluded from __init__\n",
    "```\n",
    "\n",
    "* `default_factory` is used for mutable defaults (e.g., list, dict).\n",
    "* `init=False` means the field won't be included in the generated `__init__`.\n",
    "\n",
    "## The `__post_init__` Method\n",
    "\n",
    "**What it is:** A special method that runs automatically after `__init__`.\n",
    "\n",
    "**When it runs:** After the dataclass constructor finishes initializing fields.\n",
    "\n",
    "```python\n",
    "@dataclass\n",
    "class Circle:\n",
    "    radius: float\n",
    "    area: float = field(init=False)\n",
    "\n",
    "    def __post_init__(self):\n",
    "        self.area = 3.14159 * self.radius ** 2\n",
    "```\n",
    "\n",
    "## `__post_init__` vs `@property`\n",
    "\n",
    "| Feature     | `__post_init__`                  | `@property`                          |\n",
    "| ----------- | -------------------------------- | ------------------------------------ |\n",
    "| Computation | Once at object creation          | On every access                      |\n",
    "| Performance | Faster after initial computation | Slightly slower (computed each time) |\n",
    "| Storage     | Stores result in attribute       | Does not store, always recalculated  |\n",
    "| Staleness   | Can become outdated              | Always up-to-date                    |\n",
    "\n",
    "## `InitVar` (Initialization Variables)\n",
    "\n",
    "**Purpose:** Used to accept values during initialization that are **not stored** as instance attributes.\n",
    "\n",
    "```python\n",
    "from dataclasses import dataclass, field, InitVar\n",
    "\n",
    "@dataclass\n",
    "class Person:\n",
    "    name: str\n",
    "    birth_year: int\n",
    "    current_year: InitVar[int]  # Passed to __post_init__, not stored\n",
    "    age: int = field(init=False)\n",
    "\n",
    "    def __post_init__(self, current_year):\n",
    "        self.age = current_year - self.birth_year\n",
    "\n",
    "person = Person(\"Alice\", 1990, 2024)\n",
    "# print(person.current_year)  # ❌ AttributeError: 'Person' object has no attribute 'current_year'\n",
    "print(person)  # Person(name='Alice', birth_year=1990, age=34)\n",
    "```\n",
    "\n",
    "## Advanced Features\n",
    "\n",
    "```python\n",
    "@dataclass(frozen=True, order=True, slots=True)\n",
    "class Point:\n",
    "    x: float\n",
    "    y: float\n",
    "```\n",
    "\n",
    "* `frozen=True`: Makes the instance immutable\n",
    "* `order=True`: Adds ordering methods (`__lt__`, etc.)\n",
    "* `slots=True`: Optimizes memory and speeds up attribute access (Python 3.10+)\n",
    "\n",
    "### More Field Customization\n",
    "\n",
    "```python\n",
    "@dataclass\n",
    "class Student:\n",
    "    grades: list = field(default_factory=list)\n",
    "    compare_key: str = field(compare=False)  # Excluded from equality and ordering\n",
    "```\n",
    "\n",
    "## Useful Utilities\n",
    "\n",
    "```python\n",
    "from dataclasses import asdict, astuple\n",
    "\n",
    "@dataclass\n",
    "class Book:\n",
    "    title: str\n",
    "    author: str\n",
    "\n",
    "b = Book(\"1984\", \"George Orwell\")\n",
    "print(asdict(b))   # {'title': '1984', 'author': 'George Orwell'}\n",
    "print(astuple(b))  # ('1984', 'George Orwell')\n",
    "```\n",
    "\n",
    "## When to Use Dataclasses\n",
    "\n",
    "Use `@dataclass` when:\n",
    "\n",
    "* You need a class primarily for storing data\n",
    "* You want automatic `__init__`, `__repr__`, etc.\n",
    "* You want cleaner, more readable code\n",
    "* You're handling structured data (e.g. from APIs, configs)\n",
    "* You don't need complex inheritance or custom metaclasses"
   ]
  },
  {
   "cell_type": "code",
   "execution_count": 1,
   "id": "95e69684",
   "metadata": {},
   "outputs": [],
   "source": [
    "# Example-1\n",
    "# Too much boilerplate\n",
    "class Person:\n",
    "    def __init__(self, name, age, email):\n",
    "        self.name = name\n",
    "        self.age = age\n",
    "        self.email = email\n",
    "    \n",
    "    def __repr__(self):\n",
    "        return f\"Person(name='{self.name}', age={self.age}, email='{self.email}')\"\n",
    "    \n",
    "    def __eq__(self, other):\n",
    "        if not isinstance(other, Person):\n",
    "            return False\n",
    "        return (self.name, self.age, self.email) == (other.name, other.age, other.email)\n",
    "    \n",
    "# Reduced boilerplate\n",
    "from dataclasses import dataclass, field, InitVar\n",
    "\n",
    "@dataclass\n",
    "class Person:\n",
    "    name: str\n",
    "    age: int\n",
    "    email: str"
   ]
  },
  {
   "cell_type": "code",
   "execution_count": 2,
   "id": "fcbbc7e4",
   "metadata": {},
   "outputs": [
    {
     "data": {
      "text/plain": [
       "True"
      ]
     },
     "execution_count": 2,
     "metadata": {},
     "output_type": "execute_result"
    }
   ],
   "source": [
    "person1 = Person(name='Prakhar', age=20, email='prhkrd@icloud.com')\n",
    "person2 = Person(name='Prakhar', age=20, email='prhkrd@icloud.com')\n",
    "person1 == person2"
   ]
  },
  {
   "cell_type": "code",
   "execution_count": 3,
   "id": "ecf911d6",
   "metadata": {},
   "outputs": [
    {
     "name": "stdout",
     "output_type": "stream",
     "text": [
      "[]\n"
     ]
    }
   ],
   "source": [
    "# Example-2: Post-initialization\n",
    "@dataclass\n",
    "class Product:\n",
    "    name: str\n",
    "    price: float\n",
    "    category: str = \"General\"\n",
    "    in_stock: bool = True\n",
    "    tags: list = None\n",
    "\n",
    "    def __post_init__(self):\n",
    "        if self.tags is None:\n",
    "            self.tags = []\n",
    "\n",
    "product = Product(name='A', price=2.3)\n",
    "print(product.tags)"
   ]
  },
  {
   "cell_type": "code",
   "execution_count": 4,
   "id": "256298d2",
   "metadata": {},
   "outputs": [
    {
     "ename": "FrozenInstanceError",
     "evalue": "cannot assign to field 'x'",
     "output_type": "error",
     "traceback": [
      "\u001b[0;31m---------------------------------------------------------------------------\u001b[0m",
      "\u001b[0;31mFrozenInstanceError\u001b[0m                       Traceback (most recent call last)",
      "Cell \u001b[0;32mIn[4], line 7\u001b[0m\n\u001b[1;32m      4\u001b[0m     y: \u001b[38;5;28mfloat\u001b[39m\n\u001b[1;32m      6\u001b[0m point \u001b[38;5;241m=\u001b[39m Point(x\u001b[38;5;241m=\u001b[39m\u001b[38;5;241m1\u001b[39m, y\u001b[38;5;241m=\u001b[39m\u001b[38;5;241m2\u001b[39m)\n\u001b[0;32m----> 7\u001b[0m \u001b[43mpoint\u001b[49m\u001b[38;5;241;43m.\u001b[39;49m\u001b[43mx\u001b[49m \u001b[38;5;241m=\u001b[39m \u001b[38;5;241m2\u001b[39m\n",
      "File \u001b[0;32m<string>:4\u001b[0m, in \u001b[0;36m__setattr__\u001b[0;34m(self, name, value)\u001b[0m\n",
      "\u001b[0;31mFrozenInstanceError\u001b[0m: cannot assign to field 'x'"
     ]
    }
   ],
   "source": [
    "@dataclass(frozen=True)\n",
    "class Point:\n",
    "    x: float\n",
    "    y: float\n",
    "\n",
    "point = Point(x=1, y=2)\n",
    "point.x = 2"
   ]
  },
  {
   "cell_type": "code",
   "execution_count": 5,
   "id": "76f36705",
   "metadata": {},
   "outputs": [
    {
     "name": "stdout",
     "output_type": "stream",
     "text": [
      "Student(name='Jan', grades=['A', 'C', 'D'], id='STU_9064')\n"
     ]
    }
   ],
   "source": [
    "# Example-3: Post initialization\n",
    "from dataclasses import dataclass, field\n",
    "\n",
    "@dataclass\n",
    "class Student:\n",
    "    name: str\n",
    "    grades: list = field(default_factory=list)  # Safe mutable default\n",
    "    id: str = field(init=False)  # Not included in __init__\n",
    "    \n",
    "    def __post_init__(self):\n",
    "        self.id = f\"STU_{hash(self.name) % 10000}\"\n",
    "\n",
    "student = Student(name='Jan', grades=['A', 'C', 'D'])\n",
    "print(student)"
   ]
  },
  {
   "cell_type": "code",
   "execution_count": 6,
   "id": "9cd1968c",
   "metadata": {},
   "outputs": [
    {
     "name": "stdout",
     "output_type": "stream",
     "text": [
      "Rectangle(width=1, height=1, area=2)\n"
     ]
    }
   ],
   "source": [
    "# Example-4: initialization variables\n",
    "@dataclass\n",
    "class Rectangle:\n",
    "    width: float\n",
    "    height: float\n",
    "    multiplier: InitVar[float]\n",
    "    area: float = field(init=False)\n",
    "    \n",
    "    def __post_init__(self, multiplier):\n",
    "        self.area = self.width * self.height * multiplier\n",
    "\n",
    "rec = Rectangle(width=1, height=1, multiplier=2)\n",
    "print(rec)"
   ]
  },
  {
   "cell_type": "code",
   "execution_count": null,
   "id": "9bb4b52c",
   "metadata": {},
   "outputs": [],
   "source": []
  }
 ],
 "metadata": {
  "kernelspec": {
   "display_name": ".venv",
   "language": "python",
   "name": "python3"
  },
  "language_info": {
   "codemirror_mode": {
    "name": "ipython",
    "version": 3
   },
   "file_extension": ".py",
   "mimetype": "text/x-python",
   "name": "python",
   "nbconvert_exporter": "python",
   "pygments_lexer": "ipython3",
   "version": "3.9.6"
  }
 },
 "nbformat": 4,
 "nbformat_minor": 5
}
